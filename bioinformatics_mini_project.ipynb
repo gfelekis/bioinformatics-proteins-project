{
  "nbformat": 4,
  "nbformat_minor": 0,
  "metadata": {
    "kernelspec": {
      "name": "python3",
      "display_name": "Python 3"
    },
    "language_info": {
      "codemirror_mode": {
        "name": "ipython",
        "version": 3
      },
      "file_extension": ".py",
      "mimetype": "text/x-python",
      "name": "python",
      "nbconvert_exporter": "python",
      "pygments_lexer": "ipython3",
      "version": "3.7.4"
    },
    "colab": {
      "name": "bioinformatics_mini_project.ipynb",
      "provenance": [],
      "collapsed_sections": [],
      "include_colab_link": true
    },
    "accelerator": "GPU"
  },
  "cells": [
    {
      "cell_type": "markdown",
      "metadata": {
        "id": "view-in-github",
        "colab_type": "text"
      },
      "source": [
        "<a href=\"https://colab.research.google.com/github/gfelekis/ucl_bioinformatics_project/blob/model/bioinformatics_mini_project.ipynb\" target=\"_parent\"><img src=\"https://colab.research.google.com/assets/colab-badge.svg\" alt=\"Open In Colab\"/></a>"
      ]
    },
    {
      "cell_type": "code",
      "metadata": {
        "id": "uAI9g5sOJ2a_",
        "colab_type": "code",
        "outputId": "080aaca8-ff58-446c-e26e-7fd569d97cf9",
        "colab": {
          "base_uri": "https://localhost:8080/",
          "height": 139
        }
      },
      "source": [
        "!pip3 install Biopython"
      ],
      "execution_count": 1,
      "outputs": [
        {
          "output_type": "stream",
          "text": [
            "Collecting Biopython\n",
            "\u001b[?25l  Downloading https://files.pythonhosted.org/packages/83/3d/e0c8a993dbea1136be90c31345aefc5babdd5046cd52f81c18fc3fdad865/biopython-1.76-cp36-cp36m-manylinux1_x86_64.whl (2.3MB)\n",
            "\u001b[K     |████████████████████████████████| 2.3MB 12.7MB/s \n",
            "\u001b[?25hRequirement already satisfied: numpy in /usr/local/lib/python3.6/dist-packages (from Biopython) (1.18.2)\n",
            "Installing collected packages: Biopython\n",
            "Successfully installed Biopython-1.76\n"
          ],
          "name": "stdout"
        }
      ]
    },
    {
      "cell_type": "code",
      "metadata": {
        "id": "nbSzWhyRJ2bE",
        "colab_type": "code",
        "colab": {}
      },
      "source": [
        "import os \n",
        "# Science\n",
        "import numpy as np\n",
        "import pandas as pd\n",
        "import matplotlib.pyplot as plt\n",
        "from sklearn.metrics import confusion_matrix \n",
        "#Bio\n",
        "from Bio import SeqIO\n",
        "from Bio.SeqUtils.ProtParam import ProteinAnalysis\n",
        "# ML methods\n",
        "from sklearn.model_selection import train_test_split\n",
        "from sklearn.ensemble import RandomForestClassifier\n",
        "from sklearn.naive_bayes import MultinomialNB\n",
        "from sklearn.model_selection import cross_validate"
      ],
      "execution_count": 0,
      "outputs": []
    },
    {
      "cell_type": "markdown",
      "metadata": {
        "id": "cIveGkokJ2bH",
        "colab_type": "text"
      },
      "source": [
        "# Read data"
      ]
    },
    {
      "cell_type": "code",
      "metadata": {
        "id": "vYTgA1ubJ2bK",
        "colab_type": "code",
        "colab": {}
      },
      "source": [
        "filenames = {\"mitocondrial\": \"mito.fasta\",\n",
        "             \"nucleus\"     : \"nucleus.fasta\", \n",
        "             \"secreted\"    : \"secreted.fasta\", \n",
        "             \"cytoplasm\"   : \"cyto.fasta\"}"
      ],
      "execution_count": 0,
      "outputs": []
    },
    {
      "cell_type": "code",
      "metadata": {
        "id": "qb9iLrlxKuYI",
        "colab_type": "code",
        "outputId": "858d9a14-eecf-4020-fd89-a29f9533ff64",
        "colab": {
          "base_uri": "https://localhost:8080/",
          "height": 785
        }
      },
      "source": [
        "!wget http://www0.cs.ucl.ac.uk/staff/D.Jones/coursework/cyto.fasta\n",
        "!wget http://www0.cs.ucl.ac.uk/staff/D.Jones/coursework/secreted.fasta\n",
        "!wget http://www0.cs.ucl.ac.uk/staff/D.Jones/coursework/mito.fasta\n",
        "!wget http://www0.cs.ucl.ac.uk/staff/D.Jones/coursework/nucleus.fasta"
      ],
      "execution_count": 4,
      "outputs": [
        {
          "output_type": "stream",
          "text": [
            "--2020-03-23 16:41:26--  http://www0.cs.ucl.ac.uk/staff/D.Jones/coursework/cyto.fasta\n",
            "Resolving www0.cs.ucl.ac.uk (www0.cs.ucl.ac.uk)... 128.16.6.8\n",
            "Connecting to www0.cs.ucl.ac.uk (www0.cs.ucl.ac.uk)|128.16.6.8|:80... connected.\n",
            "HTTP request sent, awaiting response... 200 Document follows\n",
            "Length: 2350203 (2.2M) [text/plain]\n",
            "Saving to: ‘cyto.fasta’\n",
            "\n",
            "cyto.fasta          100%[===================>]   2.24M  30.3KB/s    in 74s     \n",
            "\n",
            "2020-03-23 16:42:41 (31.0 KB/s) - ‘cyto.fasta’ saved [2350203/2350203]\n",
            "\n",
            "--2020-03-23 16:42:42--  http://www0.cs.ucl.ac.uk/staff/D.Jones/coursework/secreted.fasta\n",
            "Resolving www0.cs.ucl.ac.uk (www0.cs.ucl.ac.uk)... 128.16.6.8\n",
            "Connecting to www0.cs.ucl.ac.uk (www0.cs.ucl.ac.uk)|128.16.6.8|:80... connected.\n",
            "HTTP request sent, awaiting response... 200 Document follows\n",
            "Length: 637227 (622K) [text/plain]\n",
            "Saving to: ‘secreted.fasta’\n",
            "\n",
            "secreted.fasta      100%[===================>] 622.29K  30.2KB/s    in 21s     \n",
            "\n",
            "2020-03-23 16:43:04 (30.0 KB/s) - ‘secreted.fasta’ saved [637227/637227]\n",
            "\n",
            "--2020-03-23 16:43:05--  http://www0.cs.ucl.ac.uk/staff/D.Jones/coursework/mito.fasta\n",
            "Resolving www0.cs.ucl.ac.uk (www0.cs.ucl.ac.uk)... 128.16.6.8\n",
            "Connecting to www0.cs.ucl.ac.uk (www0.cs.ucl.ac.uk)|128.16.6.8|:80... connected.\n",
            "HTTP request sent, awaiting response... 200 Document follows\n",
            "Length: 657556 (642K) [text/plain]\n",
            "Saving to: ‘mito.fasta’\n",
            "\n",
            "mito.fasta          100%[===================>] 642.14K  31.0KB/s    in 21s     \n",
            "\n",
            "2020-03-23 16:43:27 (30.7 KB/s) - ‘mito.fasta’ saved [657556/657556]\n",
            "\n",
            "--2020-03-23 16:43:28--  http://www0.cs.ucl.ac.uk/staff/D.Jones/coursework/nucleus.fasta\n",
            "Resolving www0.cs.ucl.ac.uk (www0.cs.ucl.ac.uk)... 128.16.6.8\n",
            "Connecting to www0.cs.ucl.ac.uk (www0.cs.ucl.ac.uk)|128.16.6.8|:80... connected.\n",
            "HTTP request sent, awaiting response... 200 Document follows\n",
            "Length: 2460360 (2.3M) [text/plain]\n",
            "Saving to: ‘nucleus.fasta’\n",
            "\n",
            "nucleus.fasta       100%[===================>]   2.35M  31.0KB/s    in 77s     \n",
            "\n",
            "2020-03-23 16:44:45 (31.3 KB/s) - ‘nucleus.fasta’ saved [2460360/2460360]\n",
            "\n"
          ],
          "name": "stdout"
        }
      ]
    },
    {
      "cell_type": "code",
      "metadata": {
        "id": "IHS7Z1KXJ2bM",
        "colab_type": "code",
        "colab": {}
      },
      "source": [
        "reads    = {k: list(SeqIO.parse(v, \"fasta\")) for k,v in filenames.items()}\n",
        "raw_seqs = {k: [[str(prot.id), str(prot.seq)] for prot in v] for k,v in reads.items()}\n",
        "# raw_seqs"
      ],
      "execution_count": 0,
      "outputs": []
    },
    {
      "cell_type": "code",
      "metadata": {
        "id": "DOPkziDwJ2bO",
        "colab_type": "code",
        "colab": {}
      },
      "source": [
        "# organize dataset\n",
        "ids    = [] \n",
        "seqs   = []\n",
        "labels = []\n",
        "\n",
        "index = 0\n",
        "for k,v in raw_seqs.items():\n",
        "    ids    += [prot[0] for prot in v]\n",
        "    seqs   += [prot[1] for prot in v]\n",
        "    labels += list(np.ones(len(v))*index)\n",
        "    index  += 1\n",
        "    \n",
        "seqs   = np.array(seqs)\n",
        "labels = np.array(labels) "
      ],
      "execution_count": 0,
      "outputs": []
    },
    {
      "cell_type": "code",
      "metadata": {
        "id": "DTAW_fxAJ2bR",
        "colab_type": "code",
        "outputId": "cee67dbe-f927-42e5-d196-808fe5797074",
        "colab": {
          "base_uri": "https://localhost:8080/",
          "height": 34
        }
      },
      "source": [
        "seqs.shape"
      ],
      "execution_count": 7,
      "outputs": [
        {
          "output_type": "execute_result",
          "data": {
            "text/plain": [
              "(9222,)"
            ]
          },
          "metadata": {
            "tags": []
          },
          "execution_count": 7
        }
      ]
    },
    {
      "cell_type": "markdown",
      "metadata": {
        "id": "Ul4oPRAVJ2bV",
        "colab_type": "text"
      },
      "source": [
        "# Feature extraction"
      ]
    },
    {
      "cell_type": "code",
      "metadata": {
        "id": "Gv53nQInJ2bV",
        "colab_type": "code",
        "colab": {}
      },
      "source": [
        "data = pd.DataFrame()\n",
        "data[\"id\"]    = ids\n",
        "data[\"seqs\"]  = seqs\n",
        "data[\"label\"] = labels\n",
        "data[\"label_loc\"] = [list(filenames.keys())[int(label)] for label in labels]"
      ],
      "execution_count": 0,
      "outputs": []
    },
    {
      "cell_type": "code",
      "metadata": {
        "id": "zWa1O05LJ2bX",
        "colab_type": "code",
        "outputId": "5c6f60ec-e4c9-4283-a90a-52e88d521aed",
        "colab": {
          "base_uri": "https://localhost:8080/",
          "height": 224
        }
      },
      "source": [
        "data.head()"
      ],
      "execution_count": 9,
      "outputs": [
        {
          "output_type": "execute_result",
          "data": {
            "text/html": [
              "<div>\n",
              "<style scoped>\n",
              "    .dataframe tbody tr th:only-of-type {\n",
              "        vertical-align: middle;\n",
              "    }\n",
              "\n",
              "    .dataframe tbody tr th {\n",
              "        vertical-align: top;\n",
              "    }\n",
              "\n",
              "    .dataframe thead th {\n",
              "        text-align: right;\n",
              "    }\n",
              "</style>\n",
              "<table border=\"1\" class=\"dataframe\">\n",
              "  <thead>\n",
              "    <tr style=\"text-align: right;\">\n",
              "      <th></th>\n",
              "      <th>id</th>\n",
              "      <th>seqs</th>\n",
              "      <th>label</th>\n",
              "      <th>label_loc</th>\n",
              "    </tr>\n",
              "  </thead>\n",
              "  <tbody>\n",
              "    <tr>\n",
              "      <th>0</th>\n",
              "      <td>sp|Q9LVM1|AB25B_ARATH</td>\n",
              "      <td>MSRGSRFVRAPGLLLCRVNLQPQPKIPSFSYSLRSDYRLHNGFSNY...</td>\n",
              "      <td>0.0</td>\n",
              "      <td>mitocondrial</td>\n",
              "    </tr>\n",
              "    <tr>\n",
              "      <th>1</th>\n",
              "      <td>sp|P45844|ABCG1_HUMAN</td>\n",
              "      <td>MACLMAAFSVGTAMNASSYSAEMTEPKSVCVSVDEVVSSNMEATET...</td>\n",
              "      <td>0.0</td>\n",
              "      <td>mitocondrial</td>\n",
              "    </tr>\n",
              "    <tr>\n",
              "      <th>2</th>\n",
              "      <td>sp|Q9UKU7|ACAD8_HUMAN</td>\n",
              "      <td>MLWSGCRRFGARLGCLPGGLRVLVQTGHRSLTSCIDPSMGLNEEQK...</td>\n",
              "      <td>0.0</td>\n",
              "      <td>mitocondrial</td>\n",
              "    </tr>\n",
              "    <tr>\n",
              "      <th>3</th>\n",
              "      <td>sp|Q9H845|ACAD9_HUMAN</td>\n",
              "      <td>MSGCGLFLRTTAAARACRGLVVSTANRRLLRTSPPVRAFAKELFLG...</td>\n",
              "      <td>0.0</td>\n",
              "      <td>mitocondrial</td>\n",
              "    </tr>\n",
              "    <tr>\n",
              "      <th>4</th>\n",
              "      <td>sp|Q8NI60|ADCK3_HUMAN</td>\n",
              "      <td>MAAILGDTIMVAKGLVKLTQAAVETHLQHLGIGGELIMAARALQST...</td>\n",
              "      <td>0.0</td>\n",
              "      <td>mitocondrial</td>\n",
              "    </tr>\n",
              "  </tbody>\n",
              "</table>\n",
              "</div>"
            ],
            "text/plain": [
              "                      id  ...     label_loc\n",
              "0  sp|Q9LVM1|AB25B_ARATH  ...  mitocondrial\n",
              "1  sp|P45844|ABCG1_HUMAN  ...  mitocondrial\n",
              "2  sp|Q9UKU7|ACAD8_HUMAN  ...  mitocondrial\n",
              "3  sp|Q9H845|ACAD9_HUMAN  ...  mitocondrial\n",
              "4  sp|Q8NI60|ADCK3_HUMAN  ...  mitocondrial\n",
              "\n",
              "[5 rows x 4 columns]"
            ]
          },
          "metadata": {
            "tags": []
          },
          "execution_count": 9
        }
      ]
    },
    {
      "cell_type": "code",
      "metadata": {
        "scrolled": false,
        "id": "md5H8b7wJ2ba",
        "colab_type": "code",
        "colab": {}
      },
      "source": [
        "# 20 AAs, U for selenocysteine\n",
        "aas = \"HRKDESYTCQNMAVLIPWFGUBZ\" # B/Z aspartate/asparragine + glutamate/glutamine\n",
        "# length, weight, ... - reference: https://biopython.org/DIST/docs/api/Bio.SeqUtils.ProtParam.ProteinAnalysis-class.html#isoelectric_point\n",
        "data[\"length\"]     = [len(prot) for prot in seqs]\n",
        "analyzed = [ProteinAnalysis(prot.replace(\"X\", \"\").replace(\"B\", \"\").replace(\"Z\", \"\").replace(\"U\", \"\")) for prot in seqs]\n",
        "data[\"mol_weight\"] = [prot.molecular_weight() for prot in analyzed]\n",
        "data[\"mol_weight\"] = data[\"mol_weight\"]/100\n",
        "data[\"gravy\"]      = [prot.gravy() for prot in analyzed]\n",
        "data[\"gravy\"]      = np.abs(data[\"gravy\"].values)\n",
        "data[\"aromaticity\"]      = [prot.aromaticity() for prot in analyzed]\n",
        "# data[\"flexibility\"]      = [prot.flexibility() for prot in analyzed]\n",
        "data[\"isoelectric_point\"]      = [prot.isoelectric_point() for prot in analyzed]\n",
        "# relative occurrence of each AA\n",
        "for i,aa in enumerate(aas):\n",
        "    # relative percentage of abundance\n",
        "    data[\"aa_\"+str(aa)] = [prot.count(aa)/len(prot) for prot in seqs] # prot.count(aa)/len(prot)\n",
        "    # times the AA occurs in the first 50 AAs\n",
        "    data[\"aa_u50_\"+str(aa)] = [prot[:50].count(aa) for prot in seqs] \n",
        "    data[\"aa_o50_\"+str(aa)] = [prot[-50:].count(aa) for prot in seqs] \n",
        "    "
      ],
      "execution_count": 0,
      "outputs": []
    },
    {
      "cell_type": "code",
      "metadata": {
        "id": "6Q1JtdTQJ2bd",
        "colab_type": "code",
        "colab": {}
      },
      "source": [
        "additional_f = [\"length\", \"mol_weight\", \"gravy\", \"aromaticity\", \"isoelectric_point\"] # \"flexibility\""
      ],
      "execution_count": 0,
      "outputs": []
    },
    {
      "cell_type": "code",
      "metadata": {
        "id": "NI0Bsa3AJ2bf",
        "colab_type": "code",
        "colab": {}
      },
      "source": [
        "# specific features\n",
        "# sources: \n",
        "#    * Pepscan: http://shenlab.sols.unlv.edu/shenlab/labsite/bioinformatics/promoter/pepscan_output/search.htm\n",
        "#    * Subcellular localization signal: http://metadb.riken.jp/metadb/db/SciNetS_ria138i/http://metadb.riken.jp/db/SciNetS_ria138i/cria138s4i\n",
        "\n",
        "# endoplasmic reticulum \n",
        "# retention - KDEL on C terminus\n",
        "data[\"signal_kdel\"] = np.array([prot[-4:] == \"KDEL\" for prot in seqs])*1.0\n",
        "\n",
        "# import into ER\n",
        "data[\"signal_import_er\"] = np.array([prot[:29] == \"MMSFVSLLLVGILFWATEAEQLTKCEVFQ\" for prot in seqs])*1.0\n",
        "\n",
        "# nucleus\n",
        "# NLS: nucleus localization signal\n",
        "data[\"signal_nls\"] = np.array([\"PKKKRKV\" in prot for prot in seqs])*1.0\n",
        "\n",
        "# mitochondrial matrix localization\n",
        "data[\"signal_mito\"] = np.array([prot[:25] == \"MLSLRQSIRFFKPATRTLCSSRYLL\" for prot in seqs])*1.0\n",
        "\n",
        "# other: peroxisome\n",
        "data[\"signal_pero\"] = np.array([prot[-3:] == \"SKL\" for prot in seqs])*1.0\n",
        "\n",
        "# other: attatch to membrane\n",
        "data[\"signal_memb\"] = np.array([prot[-8:] == \"ESSKSKPK\" for prot in seqs])*1.0\n",
        "\n",
        "additional = [\"signal_kdel\", \"signal_import_er\",\n",
        "              \"signal_nls\", \"signal_mito\",\n",
        "              \"signal_pero\", \"signal_memb\"]"
      ],
      "execution_count": 0,
      "outputs": []
    },
    {
      "cell_type": "code",
      "metadata": {
        "id": "skU91N7QJ2bg",
        "colab_type": "code",
        "outputId": "034df510-8475-4947-d2ec-0d38b66ba052",
        "colab": {
          "base_uri": "https://localhost:8080/",
          "height": 253
        }
      },
      "source": [
        "data.head()"
      ],
      "execution_count": 13,
      "outputs": [
        {
          "output_type": "execute_result",
          "data": {
            "text/html": [
              "<div>\n",
              "<style scoped>\n",
              "    .dataframe tbody tr th:only-of-type {\n",
              "        vertical-align: middle;\n",
              "    }\n",
              "\n",
              "    .dataframe tbody tr th {\n",
              "        vertical-align: top;\n",
              "    }\n",
              "\n",
              "    .dataframe thead th {\n",
              "        text-align: right;\n",
              "    }\n",
              "</style>\n",
              "<table border=\"1\" class=\"dataframe\">\n",
              "  <thead>\n",
              "    <tr style=\"text-align: right;\">\n",
              "      <th></th>\n",
              "      <th>id</th>\n",
              "      <th>seqs</th>\n",
              "      <th>label</th>\n",
              "      <th>label_loc</th>\n",
              "      <th>length</th>\n",
              "      <th>mol_weight</th>\n",
              "      <th>gravy</th>\n",
              "      <th>aromaticity</th>\n",
              "      <th>isoelectric_point</th>\n",
              "      <th>aa_H</th>\n",
              "      <th>aa_u50_H</th>\n",
              "      <th>aa_o50_H</th>\n",
              "      <th>aa_R</th>\n",
              "      <th>aa_u50_R</th>\n",
              "      <th>aa_o50_R</th>\n",
              "      <th>aa_K</th>\n",
              "      <th>aa_u50_K</th>\n",
              "      <th>aa_o50_K</th>\n",
              "      <th>aa_D</th>\n",
              "      <th>aa_u50_D</th>\n",
              "      <th>aa_o50_D</th>\n",
              "      <th>aa_E</th>\n",
              "      <th>aa_u50_E</th>\n",
              "      <th>aa_o50_E</th>\n",
              "      <th>aa_S</th>\n",
              "      <th>aa_u50_S</th>\n",
              "      <th>aa_o50_S</th>\n",
              "      <th>aa_Y</th>\n",
              "      <th>aa_u50_Y</th>\n",
              "      <th>aa_o50_Y</th>\n",
              "      <th>aa_T</th>\n",
              "      <th>aa_u50_T</th>\n",
              "      <th>aa_o50_T</th>\n",
              "      <th>aa_C</th>\n",
              "      <th>aa_u50_C</th>\n",
              "      <th>aa_o50_C</th>\n",
              "      <th>aa_Q</th>\n",
              "      <th>aa_u50_Q</th>\n",
              "      <th>aa_o50_Q</th>\n",
              "      <th>aa_N</th>\n",
              "      <th>...</th>\n",
              "      <th>aa_o50_M</th>\n",
              "      <th>aa_A</th>\n",
              "      <th>aa_u50_A</th>\n",
              "      <th>aa_o50_A</th>\n",
              "      <th>aa_V</th>\n",
              "      <th>aa_u50_V</th>\n",
              "      <th>aa_o50_V</th>\n",
              "      <th>aa_L</th>\n",
              "      <th>aa_u50_L</th>\n",
              "      <th>aa_o50_L</th>\n",
              "      <th>aa_I</th>\n",
              "      <th>aa_u50_I</th>\n",
              "      <th>aa_o50_I</th>\n",
              "      <th>aa_P</th>\n",
              "      <th>aa_u50_P</th>\n",
              "      <th>aa_o50_P</th>\n",
              "      <th>aa_W</th>\n",
              "      <th>aa_u50_W</th>\n",
              "      <th>aa_o50_W</th>\n",
              "      <th>aa_F</th>\n",
              "      <th>aa_u50_F</th>\n",
              "      <th>aa_o50_F</th>\n",
              "      <th>aa_G</th>\n",
              "      <th>aa_u50_G</th>\n",
              "      <th>aa_o50_G</th>\n",
              "      <th>aa_U</th>\n",
              "      <th>aa_u50_U</th>\n",
              "      <th>aa_o50_U</th>\n",
              "      <th>aa_B</th>\n",
              "      <th>aa_u50_B</th>\n",
              "      <th>aa_o50_B</th>\n",
              "      <th>aa_Z</th>\n",
              "      <th>aa_u50_Z</th>\n",
              "      <th>aa_o50_Z</th>\n",
              "      <th>signal_kdel</th>\n",
              "      <th>signal_import_er</th>\n",
              "      <th>signal_nls</th>\n",
              "      <th>signal_mito</th>\n",
              "      <th>signal_pero</th>\n",
              "      <th>signal_memb</th>\n",
              "    </tr>\n",
              "  </thead>\n",
              "  <tbody>\n",
              "    <tr>\n",
              "      <th>0</th>\n",
              "      <td>sp|Q9LVM1|AB25B_ARATH</td>\n",
              "      <td>MSRGSRFVRAPGLLLCRVNLQPQPKIPSFSYSLRSDYRLHNGFSNY...</td>\n",
              "      <td>0.0</td>\n",
              "      <td>mitocondrial</td>\n",
              "      <td>728</td>\n",
              "      <td>804.191979</td>\n",
              "      <td>0.017857</td>\n",
              "      <td>0.089286</td>\n",
              "      <td>9.278748</td>\n",
              "      <td>0.013736</td>\n",
              "      <td>1</td>\n",
              "      <td>1</td>\n",
              "      <td>0.063187</td>\n",
              "      <td>8</td>\n",
              "      <td>1</td>\n",
              "      <td>0.045330</td>\n",
              "      <td>1</td>\n",
              "      <td>3</td>\n",
              "      <td>0.048077</td>\n",
              "      <td>1</td>\n",
              "      <td>4</td>\n",
              "      <td>0.043956</td>\n",
              "      <td>0</td>\n",
              "      <td>5</td>\n",
              "      <td>0.101648</td>\n",
              "      <td>7</td>\n",
              "      <td>3</td>\n",
              "      <td>0.026099</td>\n",
              "      <td>3</td>\n",
              "      <td>1</td>\n",
              "      <td>0.071429</td>\n",
              "      <td>0</td>\n",
              "      <td>1</td>\n",
              "      <td>0.005495</td>\n",
              "      <td>1</td>\n",
              "      <td>1</td>\n",
              "      <td>0.031593</td>\n",
              "      <td>2</td>\n",
              "      <td>5</td>\n",
              "      <td>0.048077</td>\n",
              "      <td>...</td>\n",
              "      <td>1</td>\n",
              "      <td>0.082418</td>\n",
              "      <td>1</td>\n",
              "      <td>3</td>\n",
              "      <td>0.065934</td>\n",
              "      <td>2</td>\n",
              "      <td>5</td>\n",
              "      <td>0.107143</td>\n",
              "      <td>6</td>\n",
              "      <td>6</td>\n",
              "      <td>0.064560</td>\n",
              "      <td>2</td>\n",
              "      <td>2</td>\n",
              "      <td>0.034341</td>\n",
              "      <td>4</td>\n",
              "      <td>1</td>\n",
              "      <td>0.006868</td>\n",
              "      <td>0</td>\n",
              "      <td>1</td>\n",
              "      <td>0.056319</td>\n",
              "      <td>3</td>\n",
              "      <td>0</td>\n",
              "      <td>0.060440</td>\n",
              "      <td>3</td>\n",
              "      <td>4</td>\n",
              "      <td>0.0</td>\n",
              "      <td>0</td>\n",
              "      <td>0</td>\n",
              "      <td>0.0</td>\n",
              "      <td>0</td>\n",
              "      <td>0</td>\n",
              "      <td>0.0</td>\n",
              "      <td>0</td>\n",
              "      <td>0</td>\n",
              "      <td>0.0</td>\n",
              "      <td>0.0</td>\n",
              "      <td>0.0</td>\n",
              "      <td>0.0</td>\n",
              "      <td>0.0</td>\n",
              "      <td>0.0</td>\n",
              "    </tr>\n",
              "    <tr>\n",
              "      <th>1</th>\n",
              "      <td>sp|P45844|ABCG1_HUMAN</td>\n",
              "      <td>MACLMAAFSVGTAMNASSYSAEMTEPKSVCVSVDEVVSSNMEATET...</td>\n",
              "      <td>0.0</td>\n",
              "      <td>mitocondrial</td>\n",
              "      <td>678</td>\n",
              "      <td>755.912257</td>\n",
              "      <td>0.162684</td>\n",
              "      <td>0.101770</td>\n",
              "      <td>8.024231</td>\n",
              "      <td>0.019174</td>\n",
              "      <td>0</td>\n",
              "      <td>1</td>\n",
              "      <td>0.053097</td>\n",
              "      <td>0</td>\n",
              "      <td>5</td>\n",
              "      <td>0.045723</td>\n",
              "      <td>1</td>\n",
              "      <td>3</td>\n",
              "      <td>0.042773</td>\n",
              "      <td>2</td>\n",
              "      <td>2</td>\n",
              "      <td>0.051622</td>\n",
              "      <td>5</td>\n",
              "      <td>4</td>\n",
              "      <td>0.087021</td>\n",
              "      <td>8</td>\n",
              "      <td>2</td>\n",
              "      <td>0.036873</td>\n",
              "      <td>1</td>\n",
              "      <td>3</td>\n",
              "      <td>0.047198</td>\n",
              "      <td>4</td>\n",
              "      <td>0</td>\n",
              "      <td>0.025074</td>\n",
              "      <td>2</td>\n",
              "      <td>1</td>\n",
              "      <td>0.029499</td>\n",
              "      <td>0</td>\n",
              "      <td>1</td>\n",
              "      <td>0.030973</td>\n",
              "      <td>...</td>\n",
              "      <td>0</td>\n",
              "      <td>0.069322</td>\n",
              "      <td>7</td>\n",
              "      <td>4</td>\n",
              "      <td>0.072271</td>\n",
              "      <td>6</td>\n",
              "      <td>3</td>\n",
              "      <td>0.126844</td>\n",
              "      <td>3</td>\n",
              "      <td>8</td>\n",
              "      <td>0.048673</td>\n",
              "      <td>0</td>\n",
              "      <td>6</td>\n",
              "      <td>0.035398</td>\n",
              "      <td>1</td>\n",
              "      <td>0</td>\n",
              "      <td>0.008850</td>\n",
              "      <td>0</td>\n",
              "      <td>0</td>\n",
              "      <td>0.056047</td>\n",
              "      <td>1</td>\n",
              "      <td>5</td>\n",
              "      <td>0.072271</td>\n",
              "      <td>1</td>\n",
              "      <td>1</td>\n",
              "      <td>0.0</td>\n",
              "      <td>0</td>\n",
              "      <td>0</td>\n",
              "      <td>0.0</td>\n",
              "      <td>0</td>\n",
              "      <td>0</td>\n",
              "      <td>0.0</td>\n",
              "      <td>0</td>\n",
              "      <td>0</td>\n",
              "      <td>0.0</td>\n",
              "      <td>0.0</td>\n",
              "      <td>0.0</td>\n",
              "      <td>0.0</td>\n",
              "      <td>0.0</td>\n",
              "      <td>0.0</td>\n",
              "    </tr>\n",
              "    <tr>\n",
              "      <th>2</th>\n",
              "      <td>sp|Q9UKU7|ACAD8_HUMAN</td>\n",
              "      <td>MLWSGCRRFGARLGCLPGGLRVLVQTGHRSLTSCIDPSMGLNEEQK...</td>\n",
              "      <td>0.0</td>\n",
              "      <td>mitocondrial</td>\n",
              "      <td>415</td>\n",
              "      <td>450.693150</td>\n",
              "      <td>0.050843</td>\n",
              "      <td>0.077108</td>\n",
              "      <td>8.121521</td>\n",
              "      <td>0.019277</td>\n",
              "      <td>1</td>\n",
              "      <td>2</td>\n",
              "      <td>0.057831</td>\n",
              "      <td>5</td>\n",
              "      <td>4</td>\n",
              "      <td>0.045783</td>\n",
              "      <td>2</td>\n",
              "      <td>1</td>\n",
              "      <td>0.040964</td>\n",
              "      <td>1</td>\n",
              "      <td>2</td>\n",
              "      <td>0.055422</td>\n",
              "      <td>3</td>\n",
              "      <td>3</td>\n",
              "      <td>0.074699</td>\n",
              "      <td>4</td>\n",
              "      <td>4</td>\n",
              "      <td>0.024096</td>\n",
              "      <td>0</td>\n",
              "      <td>4</td>\n",
              "      <td>0.043373</td>\n",
              "      <td>2</td>\n",
              "      <td>0</td>\n",
              "      <td>0.036145</td>\n",
              "      <td>3</td>\n",
              "      <td>1</td>\n",
              "      <td>0.048193</td>\n",
              "      <td>3</td>\n",
              "      <td>6</td>\n",
              "      <td>0.033735</td>\n",
              "      <td>...</td>\n",
              "      <td>2</td>\n",
              "      <td>0.098795</td>\n",
              "      <td>1</td>\n",
              "      <td>2</td>\n",
              "      <td>0.065060</td>\n",
              "      <td>2</td>\n",
              "      <td>4</td>\n",
              "      <td>0.089157</td>\n",
              "      <td>7</td>\n",
              "      <td>6</td>\n",
              "      <td>0.050602</td>\n",
              "      <td>1</td>\n",
              "      <td>3</td>\n",
              "      <td>0.031325</td>\n",
              "      <td>2</td>\n",
              "      <td>0</td>\n",
              "      <td>0.009639</td>\n",
              "      <td>1</td>\n",
              "      <td>0</td>\n",
              "      <td>0.043373</td>\n",
              "      <td>2</td>\n",
              "      <td>0</td>\n",
              "      <td>0.098795</td>\n",
              "      <td>7</td>\n",
              "      <td>4</td>\n",
              "      <td>0.0</td>\n",
              "      <td>0</td>\n",
              "      <td>0</td>\n",
              "      <td>0.0</td>\n",
              "      <td>0</td>\n",
              "      <td>0</td>\n",
              "      <td>0.0</td>\n",
              "      <td>0</td>\n",
              "      <td>0</td>\n",
              "      <td>0.0</td>\n",
              "      <td>0.0</td>\n",
              "      <td>0.0</td>\n",
              "      <td>0.0</td>\n",
              "      <td>0.0</td>\n",
              "      <td>0.0</td>\n",
              "    </tr>\n",
              "    <tr>\n",
              "      <th>3</th>\n",
              "      <td>sp|Q9H845|ACAD9_HUMAN</td>\n",
              "      <td>MSGCGLFLRTTAAARACRGLVVSTANRRLLRTSPPVRAFAKELFLG...</td>\n",
              "      <td>0.0</td>\n",
              "      <td>mitocondrial</td>\n",
              "      <td>621</td>\n",
              "      <td>687.595143</td>\n",
              "      <td>0.095491</td>\n",
              "      <td>0.075684</td>\n",
              "      <td>8.153870</td>\n",
              "      <td>0.017713</td>\n",
              "      <td>0</td>\n",
              "      <td>1</td>\n",
              "      <td>0.059581</td>\n",
              "      <td>7</td>\n",
              "      <td>2</td>\n",
              "      <td>0.062802</td>\n",
              "      <td>4</td>\n",
              "      <td>4</td>\n",
              "      <td>0.040258</td>\n",
              "      <td>0</td>\n",
              "      <td>3</td>\n",
              "      <td>0.077295</td>\n",
              "      <td>1</td>\n",
              "      <td>4</td>\n",
              "      <td>0.062802</td>\n",
              "      <td>3</td>\n",
              "      <td>3</td>\n",
              "      <td>0.025765</td>\n",
              "      <td>0</td>\n",
              "      <td>3</td>\n",
              "      <td>0.064412</td>\n",
              "      <td>4</td>\n",
              "      <td>1</td>\n",
              "      <td>0.017713</td>\n",
              "      <td>2</td>\n",
              "      <td>3</td>\n",
              "      <td>0.032206</td>\n",
              "      <td>0</td>\n",
              "      <td>5</td>\n",
              "      <td>0.038647</td>\n",
              "      <td>...</td>\n",
              "      <td>0</td>\n",
              "      <td>0.077295</td>\n",
              "      <td>7</td>\n",
              "      <td>4</td>\n",
              "      <td>0.062802</td>\n",
              "      <td>3</td>\n",
              "      <td>2</td>\n",
              "      <td>0.112721</td>\n",
              "      <td>7</td>\n",
              "      <td>7</td>\n",
              "      <td>0.064412</td>\n",
              "      <td>1</td>\n",
              "      <td>3</td>\n",
              "      <td>0.027375</td>\n",
              "      <td>2</td>\n",
              "      <td>2</td>\n",
              "      <td>0.003221</td>\n",
              "      <td>0</td>\n",
              "      <td>0</td>\n",
              "      <td>0.046699</td>\n",
              "      <td>3</td>\n",
              "      <td>1</td>\n",
              "      <td>0.082126</td>\n",
              "      <td>4</td>\n",
              "      <td>0</td>\n",
              "      <td>0.0</td>\n",
              "      <td>0</td>\n",
              "      <td>0</td>\n",
              "      <td>0.0</td>\n",
              "      <td>0</td>\n",
              "      <td>0</td>\n",
              "      <td>0.0</td>\n",
              "      <td>0</td>\n",
              "      <td>0</td>\n",
              "      <td>0.0</td>\n",
              "      <td>0.0</td>\n",
              "      <td>0.0</td>\n",
              "      <td>0.0</td>\n",
              "      <td>0.0</td>\n",
              "      <td>0.0</td>\n",
              "    </tr>\n",
              "    <tr>\n",
              "      <th>4</th>\n",
              "      <td>sp|Q8NI60|ADCK3_HUMAN</td>\n",
              "      <td>MAAILGDTIMVAKGLVKLTQAAVETHLQHLGIGGELIMAARALQST...</td>\n",
              "      <td>0.0</td>\n",
              "      <td>mitocondrial</td>\n",
              "      <td>647</td>\n",
              "      <td>719.493390</td>\n",
              "      <td>0.289026</td>\n",
              "      <td>0.086553</td>\n",
              "      <td>6.512390</td>\n",
              "      <td>0.032457</td>\n",
              "      <td>2</td>\n",
              "      <td>1</td>\n",
              "      <td>0.063369</td>\n",
              "      <td>1</td>\n",
              "      <td>4</td>\n",
              "      <td>0.051005</td>\n",
              "      <td>2</td>\n",
              "      <td>5</td>\n",
              "      <td>0.046368</td>\n",
              "      <td>1</td>\n",
              "      <td>0</td>\n",
              "      <td>0.075734</td>\n",
              "      <td>3</td>\n",
              "      <td>4</td>\n",
              "      <td>0.061824</td>\n",
              "      <td>1</td>\n",
              "      <td>4</td>\n",
              "      <td>0.021638</td>\n",
              "      <td>0</td>\n",
              "      <td>3</td>\n",
              "      <td>0.032457</td>\n",
              "      <td>4</td>\n",
              "      <td>1</td>\n",
              "      <td>0.013910</td>\n",
              "      <td>0</td>\n",
              "      <td>3</td>\n",
              "      <td>0.049459</td>\n",
              "      <td>4</td>\n",
              "      <td>3</td>\n",
              "      <td>0.032457</td>\n",
              "      <td>...</td>\n",
              "      <td>2</td>\n",
              "      <td>0.106646</td>\n",
              "      <td>9</td>\n",
              "      <td>4</td>\n",
              "      <td>0.051005</td>\n",
              "      <td>4</td>\n",
              "      <td>1</td>\n",
              "      <td>0.095827</td>\n",
              "      <td>7</td>\n",
              "      <td>4</td>\n",
              "      <td>0.043277</td>\n",
              "      <td>4</td>\n",
              "      <td>1</td>\n",
              "      <td>0.054096</td>\n",
              "      <td>0</td>\n",
              "      <td>4</td>\n",
              "      <td>0.003091</td>\n",
              "      <td>0</td>\n",
              "      <td>0</td>\n",
              "      <td>0.061824</td>\n",
              "      <td>0</td>\n",
              "      <td>3</td>\n",
              "      <td>0.072643</td>\n",
              "      <td>5</td>\n",
              "      <td>2</td>\n",
              "      <td>0.0</td>\n",
              "      <td>0</td>\n",
              "      <td>0</td>\n",
              "      <td>0.0</td>\n",
              "      <td>0</td>\n",
              "      <td>0</td>\n",
              "      <td>0.0</td>\n",
              "      <td>0</td>\n",
              "      <td>0</td>\n",
              "      <td>0.0</td>\n",
              "      <td>0.0</td>\n",
              "      <td>0.0</td>\n",
              "      <td>0.0</td>\n",
              "      <td>0.0</td>\n",
              "      <td>0.0</td>\n",
              "    </tr>\n",
              "  </tbody>\n",
              "</table>\n",
              "<p>5 rows × 84 columns</p>\n",
              "</div>"
            ],
            "text/plain": [
              "                      id  ... signal_memb\n",
              "0  sp|Q9LVM1|AB25B_ARATH  ...         0.0\n",
              "1  sp|P45844|ABCG1_HUMAN  ...         0.0\n",
              "2  sp|Q9UKU7|ACAD8_HUMAN  ...         0.0\n",
              "3  sp|Q9H845|ACAD9_HUMAN  ...         0.0\n",
              "4  sp|Q8NI60|ADCK3_HUMAN  ...         0.0\n",
              "\n",
              "[5 rows x 84 columns]"
            ]
          },
          "metadata": {
            "tags": []
          },
          "execution_count": 13
        }
      ]
    },
    {
      "cell_type": "markdown",
      "metadata": {
        "id": "plCJKDnUJ2bj",
        "colab_type": "text"
      },
      "source": [
        "# Data split"
      ]
    },
    {
      "cell_type": "code",
      "metadata": {
        "id": "qQw_RmLJJ2bl",
        "colab_type": "code",
        "outputId": "bd5739b5-3b40-4e1c-ed66-d9f0d403b8ac",
        "colab": {
          "base_uri": "https://localhost:8080/",
          "height": 181
        }
      },
      "source": [
        "print(\"x shape: \", x_train.shape)\n",
        "print(\"y shape: \", y_train.shape)"
      ],
      "execution_count": 14,
      "outputs": [
        {
          "output_type": "error",
          "ename": "NameError",
          "evalue": "ignored",
          "traceback": [
            "\u001b[0;31m---------------------------------------------------------------------------\u001b[0m",
            "\u001b[0;31mNameError\u001b[0m                                 Traceback (most recent call last)",
            "\u001b[0;32m<ipython-input-14-2f999162f33d>\u001b[0m in \u001b[0;36m<module>\u001b[0;34m()\u001b[0m\n\u001b[0;32m----> 1\u001b[0;31m \u001b[0mprint\u001b[0m\u001b[0;34m(\u001b[0m\u001b[0;34m\"x shape: \"\u001b[0m\u001b[0;34m,\u001b[0m \u001b[0mx_train\u001b[0m\u001b[0;34m.\u001b[0m\u001b[0mshape\u001b[0m\u001b[0;34m)\u001b[0m\u001b[0;34m\u001b[0m\u001b[0;34m\u001b[0m\u001b[0m\n\u001b[0m\u001b[1;32m      2\u001b[0m \u001b[0mprint\u001b[0m\u001b[0;34m(\u001b[0m\u001b[0;34m\"y shape: \"\u001b[0m\u001b[0;34m,\u001b[0m \u001b[0my_train\u001b[0m\u001b[0;34m.\u001b[0m\u001b[0mshape\u001b[0m\u001b[0;34m)\u001b[0m\u001b[0;34m\u001b[0m\u001b[0;34m\u001b[0m\u001b[0m\n",
            "\u001b[0;31mNameError\u001b[0m: name 'x_train' is not defined"
          ]
        }
      ]
    },
    {
      "cell_type": "code",
      "metadata": {
        "id": "yc-bVbfNJ2bj",
        "colab_type": "code",
        "colab": {}
      },
      "source": [
        "x = data[[\"aa_\"+str(aa) for aa in aas]+\n",
        "         [\"aa_u50_\"+str(aa) for aa in aas]+\n",
        "         [\"aa_o50_\"+str(aa) for aa in aas]+additional_f+additional]\n",
        "y = data[\"label\"]\n",
        "\n",
        "# data split is not needed since we use CV and have test-specific data\n",
        "x_train, x_test, y_train, y_test = train_test_split(x, y, test_size=0.2, random_state=42)\n",
        "# y_train = y_train.reshape(-1, 1)"
      ],
      "execution_count": 0,
      "outputs": []
    },
    {
      "cell_type": "markdown",
      "metadata": {
        "id": "cORAVlcnJ2bu",
        "colab_type": "text"
      },
      "source": [
        "# Model training"
      ]
    },
    {
      "cell_type": "code",
      "metadata": {
        "id": "KORektaQJ2bz",
        "colab_type": "code",
        "colab": {}
      },
      "source": [
        "# limitting the max_depth doesn't solve the overfitting problem\n",
        "\n",
        "clf        = RandomForestClassifier(max_depth=27, n_jobs=-1)\n",
        "cv_results = cross_validate(clf, x, y, cv=5)\n",
        "print(\"CV mean:\", np.mean(cv_results[\"test_score\"]))\n",
        "cv_results"
      ],
      "execution_count": 0,
      "outputs": []
    },
    {
      "cell_type": "code",
      "metadata": {
        "id": "QMngxoSr9gsc",
        "colab_type": "code",
        "colab": {}
      },
      "source": [
        "print(\"Mean of test accuracy: \", np.mean(cv_results[\"test_score\"]))"
      ],
      "execution_count": 0,
      "outputs": []
    },
    {
      "cell_type": "code",
      "metadata": {
        "id": "5R1ndGH_-J5C",
        "colab_type": "code",
        "colab": {}
      },
      "source": [
        "# Estimate the confusion matrix in the test set"
      ],
      "execution_count": 0,
      "outputs": []
    },
    {
      "cell_type": "code",
      "metadata": {
        "id": "CObtjVj-J2b1",
        "colab_type": "code",
        "colab": {}
      },
      "source": [
        "clf.fit(x_train, y_train)\n",
        "print(\"Model trained\")\n",
        "preds_train = clf.predict(x_train)\n",
        "acc_train   = np.mean(preds_train == y_train)\n",
        "print(\"Train Accuracy: \", acc_train)"
      ],
      "execution_count": 0,
      "outputs": []
    },
    {
      "cell_type": "code",
      "metadata": {
        "id": "43ubRszfyc9H",
        "colab_type": "code",
        "colab": {}
      },
      "source": [
        "matrix = cm = confusion_matrix(y_test, preds_test)\n",
        "\n",
        "title = \"Comfusion matrix\"\n",
        "cmap = \"coolwarm\"\n",
        "normalize = True\n",
        "\n",
        "if normalize:\n",
        "    cm = cm.astype('float') / cm.sum(axis=1)[:, np.newaxis]\n",
        "    print(\"Normalized confusion matrix\")\n",
        "else:\n",
        "    print('Confusion matrix, without normalization')\n",
        "\n",
        "# print(cm)\n",
        "\n",
        "fig, ax = plt.subplots()\n",
        "im = ax.imshow(cm, interpolation='nearest', cmap=cmap)\n",
        "ax.figure.colorbar(im, ax=ax)\n",
        "# We want to show all ticks...\n",
        "ax.set(xticks=np.arange(cm.shape[1]),\n",
        "       yticks=np.arange(cm.shape[0]),\n",
        "       # ... and label them with the respective list entries\n",
        "       xticklabels=list(filenames.keys()), yticklabels=list(filenames.keys()),\n",
        "       title=title,\n",
        "       ylabel='True label',\n",
        "       xlabel='Predicted label')\n",
        "\n",
        "# Rotate the tick labels and set their alignment.\n",
        "plt.setp(ax.get_xticklabels(), rotation=45, ha=\"right\",\n",
        "         rotation_mode=\"anchor\")\n",
        "\n",
        "# Loop over data dimensions and create text annotations.\n",
        "fmt = '.2f' if normalize else 'd'\n",
        "thresh = cm.max() / 2.\n",
        "for i in range(cm.shape[0]):\n",
        "    for j in range(cm.shape[1]):\n",
        "        ax.text(j, i, format(cm[i, j], fmt),\n",
        "                ha=\"center\", va=\"center\",\n",
        "                color=\"white\" if cm[i, j] > thresh else \"black\")\n",
        "fig.tight_layout()"
      ],
      "execution_count": 0,
      "outputs": []
    },
    {
      "cell_type": "markdown",
      "metadata": {
        "id": "PFakSoZPJ2b4",
        "colab_type": "text"
      },
      "source": [
        "# Make predictions"
      ]
    },
    {
      "cell_type": "code",
      "metadata": {
        "id": "kRp6VQEKDTjC",
        "colab_type": "code",
        "colab": {}
      },
      "source": [
        "!wget http://www0.cs.ucl.ac.uk/staff/D.Jones/coursework/blind.fasta"
      ],
      "execution_count": 0,
      "outputs": []
    },
    {
      "cell_type": "code",
      "metadata": {
        "id": "8GijEQFFJ2b5",
        "colab_type": "code",
        "colab": {}
      },
      "source": [
        "def predict(model, seq):\n",
        "    feats = [[seq.count(aa) for aa in aas]+\n",
        "             [seq[ :50].count(aa) for aa in aas]+\n",
        "             [seq[-50:].count(aa) for aa in aas]+[len(seq)]]\n",
        "    # add new physicchemical features\n",
        "    analyzed = ProteinAnalysis(seq.replace(\"X\", \"\").replace(\"B\", \"\").replace(\"Z\", \"\").replace(\"U\", \"\"))\n",
        "    feats[0].append(analyzed.molecular_weight())\n",
        "    feats[0].append(analyzed.gravy())\n",
        "    feats[0].append(analyzed.aromaticity())\n",
        "    feats[0].append(analyzed.isoelectric_point())\n",
        "    # add new features \n",
        "    feats[0].append(float(seq[-4:] == \"KDEL\"))\n",
        "    feats[0].append(float(seq[:29] == \"MMSFVSLLLVGILFWATEAEQLTKCEVFQ\"))\n",
        "    feats[0].append(float(\"PKKKRKV\" in seq))\n",
        "    feats[0].append(float(seq[:25] == \"MLSLRQSIRFFKPATRTLCSSRYLL\"))\n",
        "    feats[0].append(float(seq[-3:] == \"SKL\"))\n",
        "    feats[0].append(float(seq[-8:] == \"ESSKSKPK\"))\n",
        "    \n",
        "    # predictions\n",
        "    preds = model.predict_proba(feats)\n",
        "    pred  = list(filenames.keys())[np.argmax(preds, axis=1)[0]] \n",
        "    result= {\"pred\": pred, \"probability\": {k:preds[0][i] for i,k in enumerate(filenames.keys())}} \n",
        "    return result"
      ],
      "execution_count": 0,
      "outputs": []
    },
    {
      "cell_type": "code",
      "metadata": {
        "id": "OP3isckB_RQW",
        "colab_type": "code",
        "colab": {}
      },
      "source": [
        "# train the model with the whole data\n",
        "clf.fit(x, y);"
      ],
      "execution_count": 0,
      "outputs": []
    },
    {
      "cell_type": "code",
      "metadata": {
        "id": "ufA_osm2ERSv",
        "colab_type": "code",
        "colab": {}
      },
      "source": [
        "reads    = list(SeqIO.parse(\"blind.fasta\", \"fasta\"))"
      ],
      "execution_count": 0,
      "outputs": []
    },
    {
      "cell_type": "code",
      "metadata": {
        "id": "I2Cbwds-ERU3",
        "colab_type": "code",
        "colab": {}
      },
      "source": [
        "test_data = {str(prot.id): {\"seq\": str(prot.seq), \"prediction\": None, \"confidence\": None} for prot in reads}"
      ],
      "execution_count": 0,
      "outputs": []
    },
    {
      "cell_type": "code",
      "metadata": {
        "id": "BYZJQ2PAERbt",
        "colab_type": "code",
        "colab": {}
      },
      "source": [
        "for k,v in test_data.items():\n",
        "  pred = predict(clf, test_data[k][\"seq\"])\n",
        "  test_data[k][\"prediction\"] = pred[\"pred\"][:4].capitalize()\n",
        "  test_data[k][\"confidence\"] = str(pred[\"probability\"][pred[\"pred\"]]*100)+\"%\""
      ],
      "execution_count": 0,
      "outputs": []
    },
    {
      "cell_type": "code",
      "metadata": {
        "id": "4z9wCmPSERd3",
        "colab_type": "code",
        "colab": {}
      },
      "source": [
        "for k, v in test_data.items():\n",
        "  print(k, v[\"prediction\"], \"Confidence\", v[\"confidence\"])"
      ],
      "execution_count": 0,
      "outputs": []
    }
  ]
}